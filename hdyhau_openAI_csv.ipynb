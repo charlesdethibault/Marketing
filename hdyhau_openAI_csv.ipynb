{
  "nbformat": 4,
  "nbformat_minor": 0,
  "metadata": {
    "colab": {
      "provenance": [],
      "authorship_tag": "ABX9TyMnWdP+a2lEKvjsqfqqOoz+",
      "include_colab_link": true
    },
    "kernelspec": {
      "name": "python3",
      "display_name": "Python 3"
    },
    "language_info": {
      "name": "python"
    }
  },
  "cells": [
    {
      "cell_type": "markdown",
      "metadata": {
        "id": "view-in-github",
        "colab_type": "text"
      },
      "source": [
        "<a href=\"https://colab.research.google.com/github/charlesdethibault/Marketing/blob/main/hdyhau_openAI_csv.ipynb\" target=\"_parent\"><img src=\"https://colab.research.google.com/assets/colab-badge.svg\" alt=\"Open In Colab\"/></a>"
      ]
    },
    {
      "cell_type": "markdown",
      "source": [
        "# 1. Before you start, Make sure you upload two csv files in your directory which is the folder icon on your left. Please make sure the names of the files are similar\n",
        "* \"openaikey.csv\" , containing your openAIkey in cell A1\n",
        "* \"hdyhau.csv\", with all responses in column A with column title \"hdyhau\"\n",
        "\n",
        "# 2. Once, files are there, click on the runtime tab above, then 'run all\"\n",
        "\n",
        "# 3. If you do not see the \"hdyhau_categorized.csv\" file created, refresh your directory using the refresh directory icon.\n",
        "\n",
        "# 4. hover on the \"hdyhau_categorized.csv\" file and click on the 3 dots to download the file"
      ],
      "metadata": {
        "id": "WBhai1pW3HRv"
      }
    },
    {
      "cell_type": "code",
      "source": [
        "# install / import libraries\n",
        "!pip install openai\n",
        "import openai\n",
        "\n",
        "!pip install docx2txt\n",
        "import docx2txt\n",
        "\n",
        "import os\n",
        "import pandas as pd"
      ],
      "metadata": {
        "colab": {
          "base_uri": "https://localhost:8080/"
        },
        "id": "L0ugI-V_nxhL",
        "outputId": "941caa6a-f4f0-49ec-fb23-dac875617fa2"
      },
      "execution_count": 1,
      "outputs": [
        {
          "output_type": "stream",
          "name": "stdout",
          "text": [
            "Looking in indexes: https://pypi.org/simple, https://us-python.pkg.dev/colab-wheels/public/simple/\n",
            "Requirement already satisfied: openai in /usr/local/lib/python3.10/dist-packages (0.27.5)\n",
            "Requirement already satisfied: requests>=2.20 in /usr/local/lib/python3.10/dist-packages (from openai) (2.27.1)\n",
            "Requirement already satisfied: tqdm in /usr/local/lib/python3.10/dist-packages (from openai) (4.65.0)\n",
            "Requirement already satisfied: aiohttp in /usr/local/lib/python3.10/dist-packages (from openai) (3.8.4)\n",
            "Requirement already satisfied: urllib3<1.27,>=1.21.1 in /usr/local/lib/python3.10/dist-packages (from requests>=2.20->openai) (1.26.15)\n",
            "Requirement already satisfied: certifi>=2017.4.17 in /usr/local/lib/python3.10/dist-packages (from requests>=2.20->openai) (2022.12.7)\n",
            "Requirement already satisfied: charset-normalizer~=2.0.0 in /usr/local/lib/python3.10/dist-packages (from requests>=2.20->openai) (2.0.12)\n",
            "Requirement already satisfied: idna<4,>=2.5 in /usr/local/lib/python3.10/dist-packages (from requests>=2.20->openai) (3.4)\n",
            "Requirement already satisfied: attrs>=17.3.0 in /usr/local/lib/python3.10/dist-packages (from aiohttp->openai) (23.1.0)\n",
            "Requirement already satisfied: multidict<7.0,>=4.5 in /usr/local/lib/python3.10/dist-packages (from aiohttp->openai) (6.0.4)\n",
            "Requirement already satisfied: async-timeout<5.0,>=4.0.0a3 in /usr/local/lib/python3.10/dist-packages (from aiohttp->openai) (4.0.2)\n",
            "Requirement already satisfied: yarl<2.0,>=1.0 in /usr/local/lib/python3.10/dist-packages (from aiohttp->openai) (1.9.2)\n",
            "Requirement already satisfied: frozenlist>=1.1.1 in /usr/local/lib/python3.10/dist-packages (from aiohttp->openai) (1.3.3)\n",
            "Requirement already satisfied: aiosignal>=1.1.2 in /usr/local/lib/python3.10/dist-packages (from aiohttp->openai) (1.3.1)\n",
            "Looking in indexes: https://pypi.org/simple, https://us-python.pkg.dev/colab-wheels/public/simple/\n",
            "Requirement already satisfied: docx2txt in /usr/local/lib/python3.10/dist-packages (0.8)\n"
          ]
        }
      ]
    },
    {
      "cell_type": "code",
      "source": [
        "# get APIkey\n",
        "my_openAIkey = ', '.join(list(pd.read_csv('openaikey.csv')))\n",
        "os.environ['OPENAI_API_KEY'] =my_openAIkey\n",
        "openai.api_key = os.getenv(\"OPENAI_API_KEY\")"
      ],
      "metadata": {
        "id": "_G-ZZ-ol1uSA"
      },
      "execution_count": 2,
      "outputs": []
    },
    {
      "cell_type": "code",
      "source": [
        "#load data from directory\n",
        "data = pd.read_csv('hdyhau.csv')\n",
        "list_hdyhau = list(data['hdyhau'])"
      ],
      "metadata": {
        "id": "PQaVX4wmppbw"
      },
      "execution_count": 12,
      "outputs": []
    },
    {
      "cell_type": "code",
      "source": [
        "#create prompt\n",
        "prompt = 'we ask the prospect how they heard about us. Below are their responses, can you provide a category for each response in the below list. The categories should be Referral, Social Media, Online research, Podcast, Event, Online ads, blog, newsletters, and others. I also would like to list the name of the source: whom referred, which website, what podcast. The output structure should the \"prospect freext - Category name - Source name\" '+ str(list_hdyhau)"
      ],
      "metadata": {
        "id": "SNPodH_doQRR"
      },
      "execution_count": 13,
      "outputs": []
    },
    {
      "cell_type": "code",
      "source": [
        "# send request\n",
        "response = openai.Completion.create(\n",
        "  model=\"text-davinci-003\",\n",
        "  prompt=prompt,\n",
        "  temperature=0,\n",
        "  max_tokens=2484,\n",
        "  top_p=1,\n",
        "  frequency_penalty=0,\n",
        "  presence_penalty=0\n",
        ")\n",
        "r = (response[\"choices\"][0])\n",
        "print(r[\"text\"])"
      ],
      "metadata": {
        "colab": {
          "base_uri": "https://localhost:8080/"
        },
        "id": "L5YUJ-iczfY3",
        "outputId": "cecdbb25-8a4a-4557-8e79-1060264a5f99"
      },
      "execution_count": 15,
      "outputs": [
        {
          "output_type": "stream",
          "name": "stdout",
          "text": [
            "\n",
            "\n",
            "I came across your website while doing some research for my job search - Online research - Website \n",
            "Sarah Johnson, a former colleague, recommended your company to me - Referral - Sarah Johnson \n",
            "I found your job posting on Indeed - Online ads - Indeed \n",
            "My friend, James Lee, suggested I check out your website - Referral - James Lee \n",
            "I discovered your company through a Google search for tech startups in the area - Online research - Google \n",
            "I saw your company's booth at a career fair and decided to learn more - Event - Career Fair \n",
            "Your company was recommended to me by my career counselor - Referral - Career Counselor \n",
            "I came across your company while browsing Glassdoor - Online research - Glassdoor \n",
            "I heard about your company from a recruiter who reached out to me on LinkedIn - Referral - Recruiter \n",
            "Your company was featured in an article I read on TechCrunch - Online research - TechCrunch \n",
            "I saw your ad on Facebook and decided to check out your website - Online ads - Facebook \n",
            "My friend, Emily Nguyen, spoke highly of your company and recommended I apply - Referral - Emily Nguyen \n",
            "I was referred to your company by a former employee, John Smith - Referral - John Smith \n",
            "I discovered your company through a post on Reddit - Online research - Reddit \n",
            "I came across your company while browsing AngelList - Online research - AngelList \n",
            "I saw your company mentioned in a LinkedIn group I'm a part of - Online research - LinkedIn Group \n",
            "Your company was recommended to me by a career coach I worked with - Referral - Career Coach \n",
            "I discovered your company through a podcast interview with the CEO - Podcast - Podcast Interview \n",
            "I found your company on a list of \"Top Startups to Watch\" on Forbes - Online research - Forbes \n",
            "I saw your company's logo on a billboard and decided to look it up - Online research - Billboard \n",
            "Your company was recommended to me by a friend who works in the tech industry - Referral - Friend \n",
            "I discovered your company through a tweet from a tech influencer - Social Media - Tech Influencer \n",
            "I heard about your company through a networking event I attended - Event - Networking Event \n",
            "I found your company while searching for job opportunities on LinkedIn - Online research - LinkedIn \n",
            "I saw your company's booth at a tech conference and decided to learn more - Event - Tech Conference \n",
            "Your company was recommended to me by a professor who knows the CEO - Referral - Professor \n",
            "I discovered your company while browsing Crunchbase - Online research - Crunchbase \n",
            "I found your company while researching startup accelerators in the area - Online research - Startup Accelerators \n",
            "I came across your company while browsing Product Hunt - Online research - Product Hunt \n",
            "Your company was recommended to me by a mentor I worked with - Referral - Mentor \n",
            "I discovered your company through a mention in a blog post on Medium - Online research - Medium \n",
            "I saw your company's ad on Instagram and decided to check out your website - Online ads - Instagram \n",
            "I heard about your company from a former colleague who now works for you - Referral - Former Colleague \n",
            "Your company was recommended to me by a recruiter at a job fair - Referral - Recruiter \n",
            "I found your company through a Google search for remote job opportunities - Online research - Google \n",
            "I discovered your company while browsing a tech startup directory - Online research - Tech Startup Directory \n",
            "I saw your company mentioned in a newsletter I subscribe to - Newsletter - Newsletter \n",
            "Your company was recommended to me by a friend who's a customer - Referral - Friend \n",
            "I found your company while searching for job opportunities on Glassdoor - Online research - Glassdoor \n",
            "I came accross your LinkedIn profile - Online research - LinkedIn \n",
            "I heard about your company through a tech meetup group I attend - Event - Tech Meetup Group \n",
            "Your company was recommended to me by a recruiter who found my profile on LinkedIn - Referral - Recruiter \n",
            "I discovered your company while browsing a startup accelerator program website - Online research - Startup Accelerator Program Website \n",
            "I found your company while researching startups with a social impact - Online research - Social Impact \n",
            "I came across your company while browsing a list of top tech startups on Inc - Online research - Inc \n",
            "Your company was recommended to me by a former classmate who works for you - Referral - Former Classmate \n",
            "I discovered your company through a YouTube video featuring your team - Online research - YouTube \n",
            "I found your company while searching for job opportunities on Indeed - Online research - Indeed \n",
            "I saw your company's logo on a t-shirt worn by a stranger and decided to look it up - Online research - T-Shirt \n",
            "Your company was recommended to me by a career fair organizer - Referral - Career Fair Organizer \n",
            "I discovered your company through a recommendation on Quora - Online research - Quora \n",
            "I found your company while researching companies with a focus on diversity and inclusion - Online research - Diversity and Inclusion \n",
            "I heard about your company from a family member who's a customer - Referral - Family Member \n",
            "Your company was recommended to me by a coworker who's a fan - Referral - Coworker \n",
            "I discovered your company through a feature in a local news article - Online research - Local News Article \n",
            "I found your company while browsing a list of companies with a mission to change the world - Online research - Companies with a Mission to Change the World \n",
            "I came across your company while searching for job opportunities on LinkedIn's Job Search app - Online research - LinkedIn's Job Search App \n",
            "Your company was recommended to me by a fellow attendee at a tech conference - Referral - Fellow Attendee \n",
            "I discovered your company through a recommendation on Hacker News - Online research - Hacker News\n"
          ]
        }
      ]
    },
    {
      "cell_type": "code",
      "source": [
        "#save file\n",
        "data_lines = r[\"text\"].split('\\n')\n",
        "data_rows = [line.split(' - ') for line in data_lines]\n",
        "df = pd.DataFrame(data_rows, columns=['description', 'method', 'source'])\n",
        "df.to_csv('hdyhau_categorized')"
      ],
      "metadata": {
        "id": "EczNUzZH4EG4"
      },
      "execution_count": 18,
      "outputs": []
    }
  ]
}